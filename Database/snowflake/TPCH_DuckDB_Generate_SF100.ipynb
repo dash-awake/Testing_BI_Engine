{
 "cells": [
  {
   "cell_type": "markdown",
   "metadata": {
    "id": "wq5HHFy_fbze"
   },
   "source": [
    "# Generate TPCH Parquet files"
   ]
  },
  {
   "cell_type": "code",
   "execution_count": 1,
   "metadata": {
    "id": "MDTt42NXEL5_"
   },
   "outputs": [],
   "source": [
    "sf=100"
   ]
  },
  {
   "cell_type": "code",
   "execution_count": null,
   "metadata": {
    "colab": {
     "base_uri": "https://localhost:8080/"
    },
    "id": "mgc_2GlVfJSt",
    "outputId": "2a53928e-60e7-42f3-c53a-92c45b4abc04"
   },
   "outputs": [],
   "source": [
    "!pip install duckdb --pre --upgrade  > /dev/null 2>&1\n",
    "!pip show duckdb"
   ]
  },
  {
   "cell_type": "code",
   "execution_count": 3,
   "metadata": {
    "colab": {
     "base_uri": "https://localhost:8080/"
    },
    "id": "kFQ0KCKYfMCx",
    "outputId": "9d2d51df-e705-4424-a608-6fe27e98378b"
   },
   "outputs": [
    {
     "name": "stdout",
     "output_type": "stream",
     "text": [
      "CPU times: user 48min 27s, sys: 1min 50s, total: 50min 18s\n",
      "Wall time: 24min 32s\n"
     ]
    }
   ],
   "source": [
    "%%time\n",
    "import duckdb\n",
    "import pathlib\n",
    "\n",
    "\n",
    "for x in range(0, sf) :\n",
    "  con=duckdb.connect()\n",
    "  con.sql('PRAGMA disable_progress_bar;SET preserve_insertion_order=false')\n",
    "  con.sql(f\"CALL dbgen(sf={sf} , children ={sf}, step = {x})\") \n",
    "  for tbl in ['nation','region','customer','supplier','lineitem','orders','partsupp','part'] :\n",
    "     pathlib.Path(f'{sf}/{tbl}').mkdir(parents=True, exist_ok=True) \n",
    "     con.sql(f\"COPY (SELECT * FROM {tbl}) TO '{sf}/{tbl}/{x:02d}.parquet' \")\n",
    "  con.close()"
   ]
  }
 ],
 "metadata": {
  "colab": {
   "provenance": []
  },
  "environment": {
   "kernel": "python3",
   "name": "common-cpu.m106",
   "type": "gcloud",
   "uri": "gcr.io/deeplearning-platform-release/base-cpu:m106"
  },
  "kernelspec": {
   "display_name": "Python 3",
   "language": "python",
   "name": "python3"
  },
  "language_info": {
   "codemirror_mode": {
    "name": "ipython",
    "version": 3
   },
   "file_extension": ".py",
   "mimetype": "text/x-python",
   "name": "python",
   "nbconvert_exporter": "python",
   "pygments_lexer": "ipython3",
   "version": "3.7.12"
  },
  "vscode": {
   "interpreter": {
    "hash": "a00db2a08d8e812a7e35133a98e8cfd4141d13fcbd55f5b6e55385387fe8d2b4"
   }
  }
 },
 "nbformat": 4,
 "nbformat_minor": 4
}
