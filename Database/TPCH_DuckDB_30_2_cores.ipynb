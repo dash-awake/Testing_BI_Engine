{
  "cells": [
    {
      "cell_type": "markdown",
      "metadata": {
        "id": "wq5HHFy_fbze"
      },
      "source": [
        "# Generate TPCH Parquet files"
      ]
    },
    {
      "cell_type": "code",
      "source": [
        "sf=30"
      ],
      "metadata": {
        "id": "KrVrpuCVZ-GV"
      },
      "execution_count": 6,
      "outputs": []
    },
    {
      "cell_type": "code",
      "execution_count": 7,
      "metadata": {
        "id": "mgc_2GlVfJSt",
        "colab": {
          "base_uri": "https://localhost:8080/"
        },
        "outputId": "cc62fd7a-0599-4352-8576-eae386d65a7b"
      },
      "outputs": [
        {
          "output_type": "stream",
          "name": "stdout",
          "text": [
            "Looking in indexes: https://pypi.org/simple, https://us-python.pkg.dev/colab-wheels/public/simple/\n",
            "Requirement already satisfied: duckdb in /usr/local/lib/python3.9/dist-packages (0.7.2.dev832)\n"
          ]
        }
      ],
      "source": [
        "!pip install duckdb --pre --upgrade"
      ]
    },
    {
      "cell_type": "code",
      "source": [
        "%%time\n",
        "import duckdb\n",
        "import pathlib\n",
        "\n",
        "\n",
        "for x in range(0, sf) :\n",
        "  con=duckdb.connect()\n",
        "  con.sql('PRAGMA disable_progress_bar;SET preserve_insertion_order=false')\n",
        "  con.sql(f\"CALL dbgen(sf={sf} , children ={sf}, step = {x})\") \n",
        "  for tbl in ['nation','region','customer','supplier','lineitem','orders','partsupp','part'] :\n",
        "     pathlib.Path(f'./{tbl}').mkdir(parents=True, exist_ok=True) \n",
        "     con.sql(f\"COPY (SELECT * FROM {tbl}) TO './{tbl}/{x}.parquet' \")\n",
        "  con.close()\n"
      ],
      "metadata": {
        "colab": {
          "base_uri": "https://localhost:8080/"
        },
        "id": "kFQ0KCKYfMCx",
        "outputId": "aead2841-17bd-450e-d88f-9b463cf48108"
      },
      "execution_count": 2,
      "outputs": [
        {
          "output_type": "stream",
          "name": "stdout",
          "text": [
            "CPU times: user 27min 12s, sys: 57.6 s, total: 28min 10s\n",
            "Wall time: 20min 17s\n"
          ]
        }
      ]
    },
    {
      "cell_type": "code",
      "source": [
        "duckdb.sql(''' select count(*), max (l_orderkey ), min (l_orderkey ), count (distinct l_orderkey ) from './lineitem/*.parquet' ''').show()"
      ],
      "metadata": {
        "colab": {
          "base_uri": "https://localhost:8080/",
          "height": 191,
          "referenced_widgets": [
            "44da890d8f744eacac91d059efa56070",
            "d37b31ffeca746139da5745c97b1baf0",
            "7e00912647f74582821535703f827637"
          ]
        },
        "id": "Zd6PBN0R_mpp",
        "outputId": "4285ae66-5275-41a7-8207-ed5c52cf0aa4"
      },
      "execution_count": 3,
      "outputs": [
        {
          "output_type": "display_data",
          "data": {
            "text/plain": [
              "FloatProgress(value=0.0, layout=Layout(width='100%'), style=ProgressStyle(bar_color='black'))"
            ],
            "application/vnd.jupyter.widget-view+json": {
              "version_major": 2,
              "version_minor": 0,
              "model_id": "44da890d8f744eacac91d059efa56070"
            }
          },
          "metadata": {}
        },
        {
          "output_type": "stream",
          "name": "stdout",
          "text": [
            "┌──────────────┬─────────────────┬─────────────────┬────────────────────────────┐\n",
            "│ count_star() │ max(l_orderkey) │ min(l_orderkey) │ count(DISTINCT l_orderkey) │\n",
            "│    int64     │      int32      │      int32      │           int64            │\n",
            "├──────────────┼─────────────────┼─────────────────┼────────────────────────────┤\n",
            "│    179998372 │       180000000 │               1 │                   45000000 │\n",
            "└──────────────┴─────────────────┴─────────────────┴────────────────────────────┘\n",
            "\n"
          ]
        }
      ]
    },
    {
      "cell_type": "markdown",
      "metadata": {
        "id": "okINVbbJJT3h"
      },
      "source": [
        "# Check the Runtime"
      ]
    },
    {
      "cell_type": "code",
      "execution_count": 8,
      "metadata": {
        "colab": {
          "base_uri": "https://localhost:8080/",
          "height": 35
        },
        "id": "tXE_-9AuJHgj",
        "outputId": "4e374cd5-3a0b-4846-9d01-708e2a69472c"
      },
      "outputs": [
        {
          "output_type": "execute_result",
          "data": {
            "text/plain": [
              "'TPCH-SF30 ,DuckDB Running in Google Colab, 2 vCPU 13.0GB'"
            ],
            "application/vnd.google.colaboratory.intrinsic+json": {
              "type": "string"
            }
          },
          "metadata": {},
          "execution_count": 8
        }
      ],
      "source": [
        "from psutil import *\n",
        "vCPU = str(cpu_count()) + \" vCPU\"\n",
        "mem=round(virtual_memory().total/(1024 * 1024 * 1024),0)\n",
        "mem\n",
        "runtime = 'TPCH-SF'+str(sf)+' ,DuckDB Running in Google Colab, '+vCPU+' '+str(mem)+'GB'\n",
        "runtime"
      ]
    },
    {
      "cell_type": "markdown",
      "metadata": {
        "id": "rc5lsXk3GfJc"
      },
      "source": [
        "# Function to Print results"
      ]
    },
    {
      "cell_type": "code",
      "execution_count": 9,
      "metadata": {
        "id": "M1i39ckyGh39"
      },
      "outputs": [],
      "source": [
        "import time\n",
        "import pandas as pd\n",
        "def execute_query(engine, sql_script):\n",
        "    df = pd.DataFrame(columns=['dur'])\n",
        "    sql_arr = sql_script.split(\";\")\n",
        "    for index, value in enumerate(sql_arr,start=1):\n",
        "        if len(value.strip()) > 0:\n",
        "            start = time.time()\n",
        "            print('Query' + str(index))\n",
        "            try : \n",
        "             engine.sql(value).show()\n",
        "             stop = time.time()\n",
        "             duration = stop-start\n",
        "            except  :\n",
        "               duration =0\n",
        "            print(duration)\n",
        "            df = df.append({'dur': duration}, ignore_index=True)\n",
        "    return df       "
      ]
    },
    {
      "cell_type": "markdown",
      "metadata": {
        "id": "gEz-IPJH2ZKR"
      },
      "source": [
        "# SQL Query"
      ]
    },
    {
      "cell_type": "code",
      "execution_count": 10,
      "metadata": {
        "id": "AswfEpprgoJm"
      },
      "outputs": [],
      "source": [
        "sql=(f'''\n",
        "SELECT\n",
        "    --Query01\n",
        "    l_returnflag,\n",
        "    l_linestatus,\n",
        "    SUM(l_quantity) AS sum_qty,\n",
        "    SUM(l_extendedprice) AS sum_base_price,\n",
        "    SUM(l_extendedprice * (1 - l_discount)) AS sum_disc_price,\n",
        "    SUM(l_extendedprice * (1 - l_discount) * (1 + l_tax)) AS sum_charge,\n",
        "    AVG(l_quantity) AS avg_qty,\n",
        "    AVG(l_extendedprice) AS avg_price,\n",
        "    AVG(l_discount) AS avg_disc,\n",
        "    COUNT(*) AS count_order\n",
        "FROM\n",
        "    lineitem\n",
        "WHERE\n",
        "    l_shipdate <= CAST('1998-09-02' AS date)\n",
        "GROUP BY\n",
        "    l_returnflag,\n",
        "    l_linestatus\n",
        "ORDER BY\n",
        "    l_returnflag,\n",
        "    l_linestatus;\n",
        "SELECT\n",
        "    --Query02\n",
        "    s_acctbal,\n",
        "    s_name,\n",
        "    n_name,\n",
        "    p_partkey,\n",
        "    p_mfgr,\n",
        "    s_address,\n",
        "    s_phone,\n",
        "    s_comment\n",
        "FROM\n",
        "    part,\n",
        "    supplier,\n",
        "    partsupp,\n",
        "    nation,\n",
        "    region\n",
        "WHERE\n",
        "    p_partkey = ps_partkey\n",
        "    AND s_suppkey = ps_suppkey\n",
        "    AND p_size = 15\n",
        "    AND p_type LIKE '%BRASS'\n",
        "    AND s_nationkey = n_nationkey\n",
        "    AND n_regionkey = r_regionkey\n",
        "    AND r_name = 'EUROPE'\n",
        "    AND ps_supplycost = (\n",
        "        SELECT\n",
        "            MIN(ps_supplycost)\n",
        "        FROM\n",
        "            partsupp,\n",
        "            supplier,\n",
        "            nation,\n",
        "            region\n",
        "        WHERE\n",
        "            p_partkey = ps_partkey\n",
        "            AND s_suppkey = ps_suppkey\n",
        "            AND s_nationkey = n_nationkey\n",
        "            AND n_regionkey = r_regionkey\n",
        "            AND r_name = 'EUROPE'\n",
        "    )\n",
        "ORDER BY\n",
        "    s_acctbal DESC,\n",
        "    n_name,\n",
        "    s_name,\n",
        "    p_partkey\n",
        "LIMIT\n",
        "    100;\n",
        "\n",
        "\n",
        "\n",
        "\n",
        "\n",
        "\n",
        "\n",
        "SELECT\n",
        "    --Query03\n",
        "    l_orderkey,\n",
        "    SUM(l_extendedprice * (1 - l_discount)) AS revenue,\n",
        "    o_orderdate,\n",
        "    o_shippriority\n",
        "FROM\n",
        "    customer,\n",
        "    orders,\n",
        "    lineitem\n",
        "WHERE\n",
        "    c_mktsegment = 'BUILDING'\n",
        "    AND c_custkey = o_custkey\n",
        "    AND l_orderkey = o_orderkey\n",
        "    AND o_orderdate < CAST('1995-03-15' AS date)\n",
        "    AND l_shipdate > CAST('1995-03-15' AS date)\n",
        "GROUP BY\n",
        "    l_orderkey,\n",
        "    o_orderdate,\n",
        "    o_shippriority\n",
        "ORDER BY\n",
        "    revenue DESC,\n",
        "    o_orderdate\n",
        "LIMIT\n",
        "    10;\n",
        "\n",
        "\n",
        "    \n",
        "\n",
        "\n",
        "\n",
        "\n",
        "\n",
        "SELECT\n",
        "    --Query04\n",
        "    o_orderpriority,\n",
        "    COUNT(*) AS order_count\n",
        "FROM\n",
        "    orders\n",
        "WHERE\n",
        "    o_orderdate >= CAST('1993-07-01' AS date)\n",
        "    AND o_orderdate < CAST('1993-10-01' AS date)\n",
        "    AND EXISTS (\n",
        "        SELECT\n",
        "            *\n",
        "        FROM\n",
        "            lineitem\n",
        "        WHERE\n",
        "            l_orderkey = o_orderkey\n",
        "            AND l_commitdate < l_receiptdate\n",
        "    )\n",
        "GROUP BY\n",
        "    o_orderpriority\n",
        "ORDER BY\n",
        "    o_orderpriority;\n",
        "\n",
        "\n",
        "    \n",
        "\n",
        "\n",
        "\n",
        "\n",
        "\n",
        "SELECT\n",
        "    --Query05\n",
        "    n_name,\n",
        "    SUM(l_extendedprice * (1 - l_discount)) AS revenue\n",
        "FROM\n",
        "    customer,\n",
        "    orders,\n",
        "    lineitem,\n",
        "    supplier,\n",
        "    nation,\n",
        "    region\n",
        "WHERE\n",
        "    c_custkey = o_custkey\n",
        "    AND l_orderkey = o_orderkey\n",
        "    AND l_suppkey = s_suppkey\n",
        "    AND c_nationkey = s_nationkey\n",
        "    AND s_nationkey = n_nationkey\n",
        "    AND n_regionkey = r_regionkey\n",
        "    AND r_name = 'ASIA'\n",
        "    AND o_orderdate >= CAST('1994-01-01' AS date)\n",
        "    AND o_orderdate < CAST('1995-01-01' AS date)\n",
        "GROUP BY\n",
        "    n_name\n",
        "ORDER BY\n",
        "    revenue DESC;\n",
        "\n",
        "\n",
        "    \n",
        "\n",
        "\n",
        "\n",
        "\n",
        "SELECT\n",
        "    --Query06\n",
        "    SUM(l_extendedprice * l_discount) AS revenue\n",
        "FROM\n",
        "    lineitem\n",
        "WHERE\n",
        "    l_shipdate >= CAST('1994-01-01' AS date)\n",
        "    AND l_shipdate < CAST('1995-01-01' AS date)\n",
        "    AND l_discount BETWEEN 0.05\n",
        "    AND 0.07\n",
        "    AND l_quantity < 24;\n",
        "\n",
        "\n",
        "    \n",
        "\n",
        "\n",
        "\n",
        "\n",
        "SELECT\n",
        "    --Query07\n",
        "    supp_nation,\n",
        "    cust_nation,\n",
        "    l_year,\n",
        "    SUM(volume) AS revenue\n",
        "FROM\n",
        "    (\n",
        "        SELECT\n",
        "            n1.n_name AS supp_nation,\n",
        "            n2.n_name AS cust_nation,\n",
        "            EXTRACT(\n",
        "                year\n",
        "                FROM\n",
        "                    l_shipdate\n",
        "            ) AS l_year,\n",
        "            l_extendedprice * (1 - l_discount) AS volume\n",
        "        FROM\n",
        "            supplier,\n",
        "            lineitem,\n",
        "            orders,\n",
        "            customer,\n",
        "            nation n1,\n",
        "            nation n2\n",
        "        WHERE\n",
        "            s_suppkey = l_suppkey\n",
        "            AND o_orderkey = l_orderkey\n",
        "            AND c_custkey = o_custkey\n",
        "            AND s_nationkey = n1.n_nationkey\n",
        "            AND c_nationkey = n2.n_nationkey\n",
        "            AND (\n",
        "                (\n",
        "                    n1.n_name = 'FRANCE'\n",
        "                    AND n2.n_name = 'GERMANY'\n",
        "                )\n",
        "                OR (\n",
        "                    n1.n_name = 'GERMANY'\n",
        "                    AND n2.n_name = 'FRANCE'\n",
        "                )\n",
        "            )\n",
        "            AND l_shipdate BETWEEN CAST('1995-01-01' AS date)\n",
        "            AND CAST('1996-12-31' AS date)\n",
        "    ) AS shipping\n",
        "GROUP BY\n",
        "    supp_nation,\n",
        "    cust_nation,\n",
        "    l_year\n",
        "ORDER BY\n",
        "    supp_nation,\n",
        "    cust_nation,\n",
        "    l_year;\n",
        "\n",
        "\n",
        "    \n",
        "\n",
        "\n",
        "\n",
        "\n",
        "SELECT\n",
        "    --Query08\n",
        "    o_year,\n",
        "    SUM(\n",
        "        CASE\n",
        "            WHEN nation = 'BRAZIL' THEN volume\n",
        "            ELSE 0\n",
        "        END\n",
        "    ) / SUM(volume) AS mkt_share\n",
        "FROM\n",
        "    (\n",
        "        SELECT\n",
        "            EXTRACT(\n",
        "                year\n",
        "                FROM\n",
        "                    o_orderdate\n",
        "            ) AS o_year,\n",
        "            l_extendedprice * (1 - l_discount) AS volume,\n",
        "            n2.n_name AS nation\n",
        "        FROM\n",
        "            part,\n",
        "            supplier,\n",
        "            lineitem,\n",
        "            orders,\n",
        "            customer,\n",
        "            nation n1,\n",
        "            nation n2,\n",
        "            region\n",
        "        WHERE\n",
        "            p_partkey = l_partkey\n",
        "            AND s_suppkey = l_suppkey\n",
        "            AND l_orderkey = o_orderkey\n",
        "            AND o_custkey = c_custkey\n",
        "            AND c_nationkey = n1.n_nationkey\n",
        "            AND n1.n_regionkey = r_regionkey\n",
        "            AND r_name = 'AMERICA'\n",
        "            AND s_nationkey = n2.n_nationkey\n",
        "            AND o_orderdate BETWEEN CAST('1995-01-01' AS date)\n",
        "            AND CAST('1996-12-31' AS date)\n",
        "            AND p_type = 'ECONOMY ANODIZED STEEL'\n",
        "    ) AS all_nations\n",
        "GROUP BY\n",
        "    o_year\n",
        "ORDER BY\n",
        "    o_year;\n",
        "\n",
        "\n",
        "    \n",
        "\n",
        "\n",
        "\n",
        "\n",
        "\n",
        "\n",
        "\n",
        "SELECT\n",
        "    --Query09\n",
        "    nation,\n",
        "    o_year,\n",
        "    SUM(amount) AS sum_profit\n",
        "FROM\n",
        "    (\n",
        "        SELECT\n",
        "            n_name AS nation,\n",
        "            EXTRACT(\n",
        "                year\n",
        "                FROM\n",
        "                    o_orderdate\n",
        "            ) AS o_year,\n",
        "            l_extendedprice * (1 - l_discount) - ps_supplycost * l_quantity AS amount\n",
        "        FROM\n",
        "            part,\n",
        "            supplier,\n",
        "            lineitem,\n",
        "            partsupp,\n",
        "            orders,\n",
        "            nation\n",
        "        WHERE\n",
        "            s_suppkey = l_suppkey\n",
        "            AND ps_suppkey = l_suppkey\n",
        "            AND ps_partkey = l_partkey\n",
        "            AND p_partkey = l_partkey\n",
        "            AND o_orderkey = l_orderkey\n",
        "            AND s_nationkey = n_nationkey\n",
        "            AND p_name LIKE '%green%'\n",
        "    ) AS profit\n",
        "GROUP BY\n",
        "    nation,\n",
        "    o_year\n",
        "ORDER BY\n",
        "    nation,\n",
        "    o_year DESC;\n",
        "\n",
        "\n",
        "    \n",
        "\n",
        "\n",
        "\n",
        "\n",
        "\n",
        "SELECT\n",
        "    --Query10\n",
        "    c_custkey,\n",
        "    c_name,\n",
        "    SUM(l_extendedprice * (1 - l_discount)) AS revenue,\n",
        "    c_acctbal,\n",
        "    n_name,\n",
        "    c_address,\n",
        "    c_phone,\n",
        "    c_comment\n",
        "FROM\n",
        "    customer,\n",
        "    orders,\n",
        "    lineitem,\n",
        "    nation\n",
        "WHERE\n",
        "    c_custkey = o_custkey\n",
        "    AND l_orderkey = o_orderkey\n",
        "    AND o_orderdate >= CAST('1993-10-01' AS date)\n",
        "    AND o_orderdate < CAST('1994-01-01' AS date)\n",
        "    AND l_returnflag = 'R'\n",
        "    AND c_nationkey = n_nationkey\n",
        "GROUP BY\n",
        "    c_custkey,\n",
        "    c_name,\n",
        "    c_acctbal,\n",
        "    c_phone,\n",
        "    n_name,\n",
        "    c_address,\n",
        "    c_comment\n",
        "ORDER BY\n",
        "    revenue DESC\n",
        "LIMIT\n",
        "    20;\n",
        "\n",
        "\n",
        "\n",
        "\n",
        "\n",
        "\n",
        "\n",
        "SELECT\n",
        "    --Query11\n",
        "    ps_partkey,\n",
        "    SUM(ps_supplycost * ps_availqty) AS value\n",
        "FROM\n",
        "    partsupp,\n",
        "    supplier,\n",
        "    nation\n",
        "WHERE\n",
        "    ps_suppkey = s_suppkey\n",
        "    AND s_nationkey = n_nationkey\n",
        "    AND n_name = 'GERMANY'\n",
        "GROUP BY\n",
        "    ps_partkey\n",
        "HAVING\n",
        "    SUM(ps_supplycost * ps_availqty) > (\n",
        "        SELECT\n",
        "            SUM(ps_supplycost * ps_availqty) * (0.0001/{sf})\n",
        "            -- SUM(ps_supplycost * ps_availqty) * 1\n",
        "        FROM\n",
        "            partsupp,\n",
        "            supplier,\n",
        "            nation\n",
        "        WHERE\n",
        "            ps_suppkey = s_suppkey\n",
        "            AND s_nationkey = n_nationkey\n",
        "            AND n_name = 'GERMANY'\n",
        "    )\n",
        "ORDER BY\n",
        "    value DESC;\n",
        "\n",
        "\n",
        "    \n",
        "\n",
        "\n",
        "\n",
        "\n",
        "\n",
        "SELECT\n",
        "    --Query12\n",
        "    l_shipmode,\n",
        "    SUM(\n",
        "        CASE\n",
        "            WHEN o_orderpriority = '1-URGENT'\n",
        "            OR o_orderpriority = '2-HIGH' THEN 1\n",
        "            ELSE 0\n",
        "        END\n",
        "    ) AS high_line_count,\n",
        "    SUM(\n",
        "        CASE\n",
        "            WHEN o_orderpriority <> '1-URGENT'\n",
        "            AND o_orderpriority <> '2-HIGH' THEN 1\n",
        "            ELSE 0\n",
        "        END\n",
        "    ) AS low_line_count\n",
        "FROM\n",
        "    orders,\n",
        "    lineitem\n",
        "WHERE\n",
        "    o_orderkey = l_orderkey\n",
        "    AND l_shipmode IN ('MAIL', 'SHIP')\n",
        "    AND l_commitdate < l_receiptdate\n",
        "    AND l_shipdate < l_commitdate\n",
        "    AND l_receiptdate >= CAST('1994-01-01' AS date)\n",
        "    AND l_receiptdate < CAST('1995-01-01' AS date)\n",
        "GROUP BY\n",
        "    l_shipmode\n",
        "ORDER BY\n",
        "    l_shipmode;\n",
        "\n",
        "\n",
        "    \n",
        "\n",
        "\n",
        "\n",
        "\n",
        "\n",
        "SELECT\n",
        "    --Query13\n",
        "    c_count,\n",
        "    COUNT(*) AS custdist\n",
        "FROM\n",
        "    (\n",
        "        SELECT\n",
        "            c_custkey,\n",
        "            COUNT(o_orderkey) AS c_count\n",
        "        FROM\n",
        "            customer\n",
        "            LEFT OUTER JOIN orders ON c_custkey = o_custkey\n",
        "            AND o_comment NOT LIKE '%special%requests%'\n",
        "        GROUP BY\n",
        "            c_custkey\n",
        "    ) AS c_orders\n",
        "GROUP BY\n",
        "    c_count\n",
        "ORDER BY\n",
        "    custdist DESC,\n",
        "    c_count DESC;\n",
        "\n",
        "\n",
        "    \n",
        "\n",
        "\n",
        "\n",
        "\n",
        "\n",
        "SELECT\n",
        "    --Query14\n",
        "    100.00 * SUM(\n",
        "        CASE\n",
        "            WHEN p_type LIKE 'PROMO%' THEN l_extendedprice * (1 - l_discount)\n",
        "            ELSE 0\n",
        "        END\n",
        "    ) / SUM(l_extendedprice * (1 - l_discount)) AS promo_revenue\n",
        "FROM\n",
        "    lineitem,\n",
        "    part\n",
        "WHERE\n",
        "    l_partkey = p_partkey\n",
        "    AND l_shipdate >= date '1995-09-01'\n",
        "    AND l_shipdate < CAST('1995-10-01' AS date);\n",
        "\n",
        "\n",
        "    \n",
        "\n",
        "\n",
        "\n",
        "\n",
        "\n",
        "SELECT\n",
        "    --Query15\n",
        "    s_suppkey,\n",
        "    s_name,\n",
        "    s_address,\n",
        "    s_phone,\n",
        "    total_revenue\n",
        "FROM\n",
        "    supplier,\n",
        "    (\n",
        "        SELECT\n",
        "            l_suppkey AS supplier_no,\n",
        "            SUM(l_extendedprice * (1 - l_discount)) AS total_revenue\n",
        "        FROM\n",
        "            lineitem\n",
        "        WHERE\n",
        "            l_shipdate >= CAST('1996-01-01' AS date)\n",
        "            AND l_shipdate < CAST('1996-04-01' AS date)\n",
        "        GROUP BY\n",
        "            supplier_no\n",
        "    ) revenue0\n",
        "WHERE\n",
        "    s_suppkey = supplier_no\n",
        "    AND total_revenue = (\n",
        "        SELECT\n",
        "            MAX(total_revenue)\n",
        "        FROM\n",
        "            (\n",
        "                SELECT\n",
        "                    l_suppkey AS supplier_no,\n",
        "                    SUM(l_extendedprice * (1 - l_discount)) AS total_revenue\n",
        "                FROM\n",
        "                    lineitem\n",
        "                WHERE\n",
        "                    l_shipdate >= CAST('1996-01-01' AS date)\n",
        "                    AND l_shipdate < CAST('1996-04-01' AS date)\n",
        "                GROUP BY\n",
        "                    supplier_no\n",
        "            ) revenue1\n",
        "    )\n",
        "ORDER BY\n",
        "    s_suppkey;\n",
        "\n",
        "\n",
        "    \n",
        "\n",
        "\n",
        "\n",
        "\n",
        "\n",
        "SELECT\n",
        "    --Query16\n",
        "    p_brand,\n",
        "    p_type,\n",
        "    p_size,\n",
        "    COUNT(DISTINCT ps_suppkey) AS supplier_cnt\n",
        "FROM\n",
        "    partsupp,\n",
        "    part\n",
        "WHERE\n",
        "    p_partkey = ps_partkey\n",
        "    AND p_brand <> 'Brand#45'\n",
        "    AND p_type NOT LIKE 'MEDIUM POLISHED%'\n",
        "    AND p_size IN (\n",
        "        49,\n",
        "        14,\n",
        "        23,\n",
        "        45,\n",
        "        19,\n",
        "        3,\n",
        "        36,\n",
        "        9\n",
        "    )\n",
        "    AND ps_suppkey NOT IN (\n",
        "        SELECT\n",
        "            s_suppkey\n",
        "        FROM\n",
        "            supplier\n",
        "        WHERE\n",
        "            s_comment LIKE '%Customer%Complaints%'\n",
        "    )\n",
        "GROUP BY\n",
        "    p_brand,\n",
        "    p_type,\n",
        "    p_size\n",
        "ORDER BY\n",
        "    supplier_cnt DESC,\n",
        "    p_brand,\n",
        "    p_type,\n",
        "    p_size;\n",
        "\n",
        "\n",
        "    \n",
        "\n",
        "\n",
        "\n",
        "\n",
        "\n",
        "SELECT\n",
        "    --Query17\n",
        "    SUM(l_extendedprice) / 7.0 AS avg_yearly\n",
        "FROM\n",
        "    lineitem,\n",
        "    part\n",
        "WHERE\n",
        "    p_partkey = l_partkey\n",
        "    AND p_brand = 'Brand#23'\n",
        "    AND p_container = 'MED BOX'\n",
        "    AND l_quantity < (\n",
        "        SELECT\n",
        "            0.2 * AVG(l_quantity)\n",
        "        FROM\n",
        "            lineitem\n",
        "        WHERE\n",
        "            l_partkey = p_partkey\n",
        "    );\n",
        "    \n",
        "\n",
        "\n",
        "\n",
        "\n",
        "\n",
        "SELECT\n",
        "    --Query18\n",
        "    c_name,\n",
        "    c_custkey,\n",
        "    o_orderkey,\n",
        "    o_orderdate,\n",
        "    o_totalprice,\n",
        "    SUM(l_quantity)\n",
        "FROM\n",
        "    customer,\n",
        "    orders,\n",
        "    lineitem\n",
        "WHERE\n",
        "    o_orderkey IN (\n",
        "        SELECT\n",
        "            l_orderkey\n",
        "        FROM\n",
        "            lineitem\n",
        "        GROUP BY\n",
        "            l_orderkey\n",
        "        HAVING\n",
        "            SUM(l_quantity) > 300\n",
        "    )\n",
        "    AND c_custkey = o_custkey\n",
        "    AND o_orderkey = l_orderkey\n",
        "GROUP BY\n",
        "    c_name,\n",
        "    c_custkey,\n",
        "    o_orderkey,\n",
        "    o_orderdate,\n",
        "    o_totalprice\n",
        "ORDER BY\n",
        "    o_totalprice DESC,\n",
        "    o_orderdate\n",
        "LIMIT\n",
        "    100;\n",
        "    \n",
        "\n",
        "\n",
        "\n",
        "\n",
        "SELECT\n",
        "    --Query19\n",
        "    SUM(l_extendedprice * (1 - l_discount)) AS revenue\n",
        "FROM\n",
        "    lineitem,\n",
        "    part\n",
        "WHERE\n",
        "    (\n",
        "        p_partkey = l_partkey\n",
        "        AND p_brand = 'Brand#12'\n",
        "        AND p_container IN (\n",
        "            'SM CASE',\n",
        "            'SM BOX',\n",
        "            'SM PACK',\n",
        "            'SM PKG'\n",
        "        )\n",
        "        AND l_quantity >= 1\n",
        "        AND l_quantity <= 1 + 10\n",
        "        AND p_size BETWEEN 1\n",
        "        AND 5\n",
        "        AND l_shipmode IN ('AIR', 'AIR REG')\n",
        "        AND l_shipinstruct = 'DELIVER IN PERSON'\n",
        "    )\n",
        "    OR (\n",
        "        p_partkey = l_partkey\n",
        "        AND p_brand = 'Brand#23'\n",
        "        AND p_container IN (\n",
        "            'MED BAG',\n",
        "            'MED BOX',\n",
        "            'MED PKG',\n",
        "            'MED PACK'\n",
        "        )\n",
        "        AND l_quantity >= 10\n",
        "        AND l_quantity <= 10 + 10\n",
        "        AND p_size BETWEEN 1\n",
        "        AND 10\n",
        "        AND l_shipmode IN ('AIR', 'AIR REG')\n",
        "        AND l_shipinstruct = 'DELIVER IN PERSON'\n",
        "    )\n",
        "    OR (\n",
        "        p_partkey = l_partkey\n",
        "        AND p_brand = 'Brand#34'\n",
        "        AND p_container IN (\n",
        "            'LG CASE',\n",
        "            'LG BOX',\n",
        "            'LG PACK',\n",
        "            'LG PKG'\n",
        "        )\n",
        "        AND l_quantity >= 20\n",
        "        AND l_quantity <= 20 + 10\n",
        "        AND p_size BETWEEN 1\n",
        "        AND 15\n",
        "        AND l_shipmode IN ('AIR', 'AIR REG')\n",
        "        AND l_shipinstruct = 'DELIVER IN PERSON'\n",
        "    );\n",
        "    \n",
        "\n",
        "\n",
        "\n",
        "\n",
        "\n",
        "SELECT\n",
        "    --Query20\n",
        "    s_name,\n",
        "    s_address\n",
        "FROM\n",
        "    supplier,\n",
        "    nation\n",
        "WHERE\n",
        "    s_suppkey IN (\n",
        "        SELECT\n",
        "            ps_suppkey\n",
        "        FROM\n",
        "            partsupp\n",
        "        WHERE\n",
        "            ps_partkey IN (\n",
        "                SELECT\n",
        "                    p_partkey\n",
        "                FROM\n",
        "                    part\n",
        "                WHERE\n",
        "                    p_name LIKE 'forest%'\n",
        "            )\n",
        "            AND ps_availqty > (\n",
        "                SELECT\n",
        "                    0.5 * SUM(l_quantity)\n",
        "                FROM\n",
        "                    lineitem\n",
        "                WHERE\n",
        "                    l_partkey = ps_partkey\n",
        "                    AND l_suppkey = ps_suppkey\n",
        "                    AND l_shipdate >= CAST('1994-01-01' AS date)\n",
        "                    AND l_shipdate < CAST('1995-01-01' AS date)\n",
        "            )\n",
        "    )\n",
        "    AND s_nationkey = n_nationkey\n",
        "    AND n_name = 'CANADA'\n",
        "ORDER BY\n",
        "    s_name;\n",
        "    \n",
        "\n",
        "\n",
        "\n",
        "\n",
        "\n",
        "SELECT\n",
        "    --Query21\n",
        "    s_name,\n",
        "    COUNT(*) AS numwait\n",
        "FROM\n",
        "    supplier,\n",
        "    lineitem l1,\n",
        "    orders,\n",
        "    nation\n",
        "WHERE\n",
        "    s_suppkey = l1.l_suppkey\n",
        "    AND o_orderkey = l1.l_orderkey\n",
        "    AND o_orderstatus = 'F'\n",
        "    AND l1.l_receiptdate > l1.l_commitdate\n",
        "    AND EXISTS (\n",
        "        SELECT\n",
        "            *\n",
        "        FROM\n",
        "            lineitem l2\n",
        "        WHERE\n",
        "            l2.l_orderkey = l1.l_orderkey\n",
        "            AND l2.l_suppkey <> l1.l_suppkey\n",
        "    )\n",
        "    AND NOT EXISTS (\n",
        "        SELECT\n",
        "            *\n",
        "        FROM\n",
        "            lineitem l3\n",
        "        WHERE\n",
        "            l3.l_orderkey = l1.l_orderkey\n",
        "            AND l3.l_suppkey <> l1.l_suppkey\n",
        "            AND l3.l_receiptdate > l3.l_commitdate\n",
        "    )\n",
        "    AND s_nationkey = n_nationkey\n",
        "    AND n_name = 'SAUDI ARABIA'\n",
        "GROUP BY\n",
        "    s_name\n",
        "ORDER BY\n",
        "    numwait DESC,\n",
        "    s_name\n",
        "LIMIT\n",
        "    100;\n",
        "    \n",
        "\n",
        "\n",
        "\n",
        "\n",
        "\n",
        "SELECT\n",
        "    --Query22\n",
        "    cntrycode,\n",
        "    COUNT(*) AS numcust,\n",
        "    SUM(c_acctbal) AS totacctbal\n",
        "FROM\n",
        "    (\n",
        "        SELECT\n",
        "            SUBSTRING(c_phone, 1, 2) AS cntrycode,\n",
        "            c_acctbal\n",
        "        FROM\n",
        "            customer\n",
        "        WHERE\n",
        "            SUBSTRING(c_phone, 1, 2) IN (\n",
        "                '13',\n",
        "                '31',\n",
        "                '23',\n",
        "                '29',\n",
        "                '30',\n",
        "                '18',\n",
        "                '17'\n",
        "            )\n",
        "            AND c_acctbal > (\n",
        "                SELECT\n",
        "                    AVG(c_acctbal)\n",
        "                FROM\n",
        "                    customer\n",
        "                WHERE\n",
        "                    c_acctbal > 0.00\n",
        "                    AND SUBSTRING(c_phone, 1, 2) IN (\n",
        "                        '13',\n",
        "                        '31',\n",
        "                        '23',\n",
        "                        '29',\n",
        "                        '30',\n",
        "                        '18',\n",
        "                        '17'\n",
        "                    )\n",
        "            )\n",
        "            AND NOT EXISTS (\n",
        "                SELECT\n",
        "                    *\n",
        "                FROM\n",
        "                    orders\n",
        "                WHERE\n",
        "                    o_custkey = c_custkey\n",
        "            )\n",
        "    ) AS custsale\n",
        "GROUP BY\n",
        "    cntrycode\n",
        "ORDER BY\n",
        "    cntrycode;\n",
        "    \n",
        "''')"
      ]
    },
    {
      "cell_type": "markdown",
      "metadata": {
        "id": "J4BiZOfFfDJD"
      },
      "source": [
        "# DuckDB"
      ]
    },
    {
      "cell_type": "code",
      "execution_count": 11,
      "metadata": {
        "id": "xqkoz0jSepzL",
        "colab": {
          "base_uri": "https://localhost:8080/"
        },
        "outputId": "c6749302-3ada-4a1f-de14-ebf940a068af"
      },
      "outputs": [
        {
          "output_type": "stream",
          "name": "stdout",
          "text": [
            "CPU times: user 46.2 ms, sys: 19.1 ms, total: 65.3 ms\n",
            "Wall time: 303 ms\n"
          ]
        }
      ],
      "source": [
        "%%time\n",
        "import duckdb \n",
        "lineitem=       duckdb.read_parquet('./lineitem/*.parquet')\n",
        "orders=         duckdb.read_parquet('./orders/*.parquet')\n",
        "partsupp=       duckdb.read_parquet('./partsupp/*.parquet')\n",
        "supplier=       duckdb.read_parquet('./supplier/*.parquet')\n",
        "nation=         duckdb.read_parquet('./nation/*.parquet')\n",
        "region=         duckdb.read_parquet('./region/*.parquet')\n",
        "customer=       duckdb.read_parquet('./customer/*.parquet')\n",
        "part=           duckdb.read_parquet('./part/*.parquet')"
      ]
    },
    {
      "cell_type": "code",
      "source": [
        "duckdb.sql('PRAGMA disable_progress_bar')\n",
        "duck=execute_query(duckdb, sql)"
      ],
      "metadata": {
        "colab": {
          "base_uri": "https://localhost:8080/"
        },
        "id": "IH5Py0H65HXg",
        "outputId": "6d4706d6-8ea2-4823-f29a-e7b41073070d"
      },
      "execution_count": null,
      "outputs": [
        {
          "output_type": "stream",
          "name": "stdout",
          "text": [
            "Query1\n",
            "40.43768882751465\n",
            "Query2\n"
          ]
        },
        {
          "output_type": "stream",
          "name": "stderr",
          "text": [
            "<ipython-input-9-3ca086593637>:17: FutureWarning: The frame.append method is deprecated and will be removed from pandas in a future version. Use pandas.concat instead.\n",
            "  df = df.append({'dur': duration}, ignore_index=True)\n"
          ]
        },
        {
          "output_type": "stream",
          "name": "stdout",
          "text": [
            "10.181586980819702\n",
            "Query3\n"
          ]
        },
        {
          "output_type": "stream",
          "name": "stderr",
          "text": [
            "<ipython-input-9-3ca086593637>:17: FutureWarning: The frame.append method is deprecated and will be removed from pandas in a future version. Use pandas.concat instead.\n",
            "  df = df.append({'dur': duration}, ignore_index=True)\n"
          ]
        },
        {
          "output_type": "stream",
          "name": "stdout",
          "text": [
            "25.05098271369934\n",
            "Query4\n"
          ]
        },
        {
          "output_type": "stream",
          "name": "stderr",
          "text": [
            "<ipython-input-9-3ca086593637>:17: FutureWarning: The frame.append method is deprecated and will be removed from pandas in a future version. Use pandas.concat instead.\n",
            "  df = df.append({'dur': duration}, ignore_index=True)\n"
          ]
        },
        {
          "output_type": "stream",
          "name": "stdout",
          "text": [
            "23.505306482315063\n",
            "Query5\n"
          ]
        },
        {
          "output_type": "stream",
          "name": "stderr",
          "text": [
            "<ipython-input-9-3ca086593637>:17: FutureWarning: The frame.append method is deprecated and will be removed from pandas in a future version. Use pandas.concat instead.\n",
            "  df = df.append({'dur': duration}, ignore_index=True)\n"
          ]
        },
        {
          "output_type": "stream",
          "name": "stdout",
          "text": [
            "29.087424755096436\n",
            "Query6\n"
          ]
        },
        {
          "output_type": "stream",
          "name": "stderr",
          "text": [
            "<ipython-input-9-3ca086593637>:17: FutureWarning: The frame.append method is deprecated and will be removed from pandas in a future version. Use pandas.concat instead.\n",
            "  df = df.append({'dur': duration}, ignore_index=True)\n"
          ]
        },
        {
          "output_type": "stream",
          "name": "stdout",
          "text": [
            "15.650014638900757\n",
            "Query7\n"
          ]
        },
        {
          "output_type": "stream",
          "name": "stderr",
          "text": [
            "<ipython-input-9-3ca086593637>:17: FutureWarning: The frame.append method is deprecated and will be removed from pandas in a future version. Use pandas.concat instead.\n",
            "  df = df.append({'dur': duration}, ignore_index=True)\n"
          ]
        },
        {
          "output_type": "stream",
          "name": "stdout",
          "text": [
            "45.750001668930054\n",
            "Query8\n"
          ]
        },
        {
          "output_type": "stream",
          "name": "stderr",
          "text": [
            "<ipython-input-9-3ca086593637>:17: FutureWarning: The frame.append method is deprecated and will be removed from pandas in a future version. Use pandas.concat instead.\n",
            "  df = df.append({'dur': duration}, ignore_index=True)\n"
          ]
        },
        {
          "output_type": "stream",
          "name": "stdout",
          "text": [
            "51.85513782501221\n",
            "Query9\n"
          ]
        },
        {
          "output_type": "stream",
          "name": "stderr",
          "text": [
            "<ipython-input-9-3ca086593637>:17: FutureWarning: The frame.append method is deprecated and will be removed from pandas in a future version. Use pandas.concat instead.\n",
            "  df = df.append({'dur': duration}, ignore_index=True)\n"
          ]
        },
        {
          "output_type": "stream",
          "name": "stdout",
          "text": [
            "63.234519720077515\n",
            "Query10\n"
          ]
        },
        {
          "output_type": "stream",
          "name": "stderr",
          "text": [
            "<ipython-input-9-3ca086593637>:17: FutureWarning: The frame.append method is deprecated and will be removed from pandas in a future version. Use pandas.concat instead.\n",
            "  df = df.append({'dur': duration}, ignore_index=True)\n"
          ]
        },
        {
          "output_type": "stream",
          "name": "stdout",
          "text": [
            "26.010372400283813\n",
            "Query11\n"
          ]
        },
        {
          "output_type": "stream",
          "name": "stderr",
          "text": [
            "<ipython-input-9-3ca086593637>:17: FutureWarning: The frame.append method is deprecated and will be removed from pandas in a future version. Use pandas.concat instead.\n",
            "  df = df.append({'dur': duration}, ignore_index=True)\n"
          ]
        },
        {
          "output_type": "stream",
          "name": "stdout",
          "text": [
            "3.445094108581543\n",
            "Query12\n"
          ]
        },
        {
          "output_type": "stream",
          "name": "stderr",
          "text": [
            "<ipython-input-9-3ca086593637>:17: FutureWarning: The frame.append method is deprecated and will be removed from pandas in a future version. Use pandas.concat instead.\n",
            "  df = df.append({'dur': duration}, ignore_index=True)\n"
          ]
        },
        {
          "output_type": "stream",
          "name": "stdout",
          "text": [
            "26.144824743270874\n",
            "Query13\n"
          ]
        },
        {
          "output_type": "stream",
          "name": "stderr",
          "text": [
            "<ipython-input-9-3ca086593637>:17: FutureWarning: The frame.append method is deprecated and will be removed from pandas in a future version. Use pandas.concat instead.\n",
            "  df = df.append({'dur': duration}, ignore_index=True)\n"
          ]
        },
        {
          "output_type": "stream",
          "name": "stdout",
          "text": [
            "26.98239541053772\n",
            "Query14\n"
          ]
        },
        {
          "output_type": "stream",
          "name": "stderr",
          "text": [
            "<ipython-input-9-3ca086593637>:17: FutureWarning: The frame.append method is deprecated and will be removed from pandas in a future version. Use pandas.concat instead.\n",
            "  df = df.append({'dur': duration}, ignore_index=True)\n"
          ]
        },
        {
          "output_type": "stream",
          "name": "stdout",
          "text": [
            "13.007689714431763\n",
            "Query15\n"
          ]
        },
        {
          "output_type": "stream",
          "name": "stderr",
          "text": [
            "<ipython-input-9-3ca086593637>:17: FutureWarning: The frame.append method is deprecated and will be removed from pandas in a future version. Use pandas.concat instead.\n",
            "  df = df.append({'dur': duration}, ignore_index=True)\n"
          ]
        },
        {
          "output_type": "stream",
          "name": "stdout",
          "text": [
            "24.887624263763428\n",
            "Query16\n"
          ]
        },
        {
          "output_type": "stream",
          "name": "stderr",
          "text": [
            "<ipython-input-9-3ca086593637>:17: FutureWarning: The frame.append method is deprecated and will be removed from pandas in a future version. Use pandas.concat instead.\n",
            "  df = df.append({'dur': duration}, ignore_index=True)\n"
          ]
        },
        {
          "output_type": "stream",
          "name": "stdout",
          "text": [
            "4.9232494831085205\n",
            "Query17\n"
          ]
        },
        {
          "output_type": "stream",
          "name": "stderr",
          "text": [
            "<ipython-input-9-3ca086593637>:17: FutureWarning: The frame.append method is deprecated and will be removed from pandas in a future version. Use pandas.concat instead.\n",
            "  df = df.append({'dur': duration}, ignore_index=True)\n"
          ]
        },
        {
          "output_type": "stream",
          "name": "stdout",
          "text": [
            "67.21236896514893\n",
            "Query18\n"
          ]
        },
        {
          "output_type": "stream",
          "name": "stderr",
          "text": [
            "<ipython-input-9-3ca086593637>:17: FutureWarning: The frame.append method is deprecated and will be removed from pandas in a future version. Use pandas.concat instead.\n",
            "  df = df.append({'dur': duration}, ignore_index=True)\n"
          ]
        },
        {
          "output_type": "stream",
          "name": "stdout",
          "text": [
            "74.39125537872314\n",
            "Query19\n"
          ]
        },
        {
          "output_type": "stream",
          "name": "stderr",
          "text": [
            "<ipython-input-9-3ca086593637>:17: FutureWarning: The frame.append method is deprecated and will be removed from pandas in a future version. Use pandas.concat instead.\n",
            "  df = df.append({'dur': duration}, ignore_index=True)\n"
          ]
        },
        {
          "output_type": "stream",
          "name": "stdout",
          "text": [
            "27.649598836898804\n",
            "Query20\n"
          ]
        },
        {
          "output_type": "stream",
          "name": "stderr",
          "text": [
            "<ipython-input-9-3ca086593637>:17: FutureWarning: The frame.append method is deprecated and will be removed from pandas in a future version. Use pandas.concat instead.\n",
            "  df = df.append({'dur': duration}, ignore_index=True)\n"
          ]
        },
        {
          "output_type": "stream",
          "name": "stdout",
          "text": [
            "29.760550260543823\n",
            "Query21\n"
          ]
        },
        {
          "output_type": "stream",
          "name": "stderr",
          "text": [
            "<ipython-input-9-3ca086593637>:17: FutureWarning: The frame.append method is deprecated and will be removed from pandas in a future version. Use pandas.concat instead.\n",
            "  df = df.append({'dur': duration}, ignore_index=True)\n"
          ]
        }
      ]
    },
    {
      "cell_type": "markdown",
      "metadata": {
        "id": "z494Cl6XKUVX"
      },
      "source": [
        "# Result"
      ]
    },
    {
      "cell_type": "code",
      "execution_count": null,
      "metadata": {
        "id": "bSMOyuTX6BfJ"
      },
      "outputs": [],
      "source": [
        "import numpy as np\n",
        "duck['query'] = duck.index\n",
        "con1=duckdb.connect()\n",
        "concat = con1.sql('''select  duck.dur as Parquet from duck''').df()\n",
        "concat.index = np.arange(1, len(concat)+1)\n",
        "concat"
      ]
    },
    {
      "cell_type": "code",
      "execution_count": null,
      "metadata": {
        "id": "cTE1mwS_Qgvy"
      },
      "outputs": [],
      "source": [
        "ax = concat.plot.bar(rot=0,title=runtime)"
      ]
    },
    {
      "cell_type": "code",
      "execution_count": null,
      "metadata": {
        "id": "ErfnBeS6A10Y"
      },
      "outputs": [],
      "source": [
        "summary= con1.sql(' select round(sum(Parquet),2) as Parquet ').df()\n",
        "summary"
      ]
    },
    {
      "cell_type": "code",
      "execution_count": null,
      "metadata": {
        "id": "fCCECBRnQTUp"
      },
      "outputs": [],
      "source": [
        "ax = summary.plot.bar(rot=0,title= runtime)"
      ]
    }
  ],
  "metadata": {
    "colab": {
      "provenance": [],
      "toc_visible": true
    },
    "kernelspec": {
      "display_name": "Python 3.10.6 64-bit",
      "language": "python",
      "name": "python3"
    },
    "language_info": {
      "codemirror_mode": {
        "name": "ipython",
        "version": 3
      },
      "file_extension": ".py",
      "mimetype": "text/x-python",
      "name": "python",
      "nbconvert_exporter": "python",
      "pygments_lexer": "ipython3",
      "version": "3.10.6"
    },
    "vscode": {
      "interpreter": {
        "hash": "a00db2a08d8e812a7e35133a98e8cfd4141d13fcbd55f5b6e55385387fe8d2b4"
      }
    },
    "widgets": {
      "application/vnd.jupyter.widget-state+json": {
        "44da890d8f744eacac91d059efa56070": {
          "model_module": "@jupyter-widgets/controls",
          "model_name": "FloatProgressModel",
          "model_module_version": "1.5.0",
          "state": {
            "_dom_classes": [],
            "_model_module": "@jupyter-widgets/controls",
            "_model_module_version": "1.5.0",
            "_model_name": "FloatProgressModel",
            "_view_count": null,
            "_view_module": "@jupyter-widgets/controls",
            "_view_module_version": "1.5.0",
            "_view_name": "ProgressView",
            "bar_style": "",
            "description": "",
            "description_tooltip": null,
            "layout": "IPY_MODEL_d37b31ffeca746139da5745c97b1baf0",
            "max": 100,
            "min": 0,
            "orientation": "horizontal",
            "style": "IPY_MODEL_7e00912647f74582821535703f827637",
            "value": 100
          }
        },
        "d37b31ffeca746139da5745c97b1baf0": {
          "model_module": "@jupyter-widgets/base",
          "model_name": "LayoutModel",
          "model_module_version": "1.2.0",
          "state": {
            "_model_module": "@jupyter-widgets/base",
            "_model_module_version": "1.2.0",
            "_model_name": "LayoutModel",
            "_view_count": null,
            "_view_module": "@jupyter-widgets/base",
            "_view_module_version": "1.2.0",
            "_view_name": "LayoutView",
            "align_content": null,
            "align_items": null,
            "align_self": null,
            "border": null,
            "bottom": null,
            "display": null,
            "flex": null,
            "flex_flow": null,
            "grid_area": null,
            "grid_auto_columns": null,
            "grid_auto_flow": null,
            "grid_auto_rows": null,
            "grid_column": null,
            "grid_gap": null,
            "grid_row": null,
            "grid_template_areas": null,
            "grid_template_columns": null,
            "grid_template_rows": null,
            "height": null,
            "justify_content": null,
            "justify_items": null,
            "left": null,
            "margin": null,
            "max_height": null,
            "max_width": null,
            "min_height": null,
            "min_width": null,
            "object_fit": null,
            "object_position": null,
            "order": null,
            "overflow": null,
            "overflow_x": null,
            "overflow_y": null,
            "padding": null,
            "right": null,
            "top": null,
            "visibility": null,
            "width": "100%"
          }
        },
        "7e00912647f74582821535703f827637": {
          "model_module": "@jupyter-widgets/controls",
          "model_name": "ProgressStyleModel",
          "model_module_version": "1.5.0",
          "state": {
            "_model_module": "@jupyter-widgets/controls",
            "_model_module_version": "1.5.0",
            "_model_name": "ProgressStyleModel",
            "_view_count": null,
            "_view_module": "@jupyter-widgets/base",
            "_view_module_version": "1.2.0",
            "_view_name": "StyleView",
            "bar_color": "black",
            "description_width": ""
          }
        }
      }
    }
  },
  "nbformat": 4,
  "nbformat_minor": 0
}